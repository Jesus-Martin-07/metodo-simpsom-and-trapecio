{
 "cells": [
  {
   "cell_type": "code",
   "execution_count": 1,
   "id": "6cb37ead",
   "metadata": {},
   "outputs": [],
   "source": [
    "import math "
   ]
  },
  {
   "cell_type": "code",
   "execution_count": 5,
   "id": "46dfed42",
   "metadata": {},
   "outputs": [],
   "source": [
    "def f(x):\n",
    "    return (funcion)"
   ]
  },
  {
   "cell_type": "code",
   "execution_count": null,
   "id": "be4669a1",
   "metadata": {},
   "outputs": [],
   "source": [
    "\n",
    "a=float(input('Introduzca limite a: '))\n",
    "  \n",
    "b=float(input('Introduzca limite b: '))\n",
    "\n",
    "n=int(input('Introduzca limite n: '))\n",
    "\n",
    "valor_real=float(input('Introduzca el valor real de la integral: '))\n",
    "\n",
    "h=(b-a)/n\n",
    "\n",
    "s=0\n",
    "for i in range (0,n):\n",
    "    xi=a+i*h\n",
    "    s=s+f(xi)\n",
    "    \n",
    "t=(h/2)*(f(a)+f(b))+(h*s)\n",
    "error1=abs(valor_real-t)\n",
    "\n",
    "\n",
    "\n",
    "\n",
    "print(\"aproximacion con el metodo de trapecio= \",str(t), \"con un error de: \",str(error1))"
   ]
  },
  {
   "cell_type": "code",
   "execution_count": null,
   "id": "a921236e",
   "metadata": {},
   "outputs": [],
   "source": []
  },
  {
   "cell_type": "code",
   "execution_count": null,
   "id": "ecf7b683",
   "metadata": {},
   "outputs": [],
   "source": []
  }
 ],
 "metadata": {
  "kernelspec": {
   "display_name": "Python 3",
   "language": "python",
   "name": "python3"
  },
  "language_info": {
   "codemirror_mode": {
    "name": "ipython",
    "version": 3
   },
   "file_extension": ".py",
   "mimetype": "text/x-python",
   "name": "python",
   "nbconvert_exporter": "python",
   "pygments_lexer": "ipython3",
   "version": "3.9.4"
  }
 },
 "nbformat": 4,
 "nbformat_minor": 5
}
