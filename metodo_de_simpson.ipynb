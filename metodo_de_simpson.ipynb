{
 "cells": [
  {
   "cell_type": "code",
   "execution_count": 6,
   "id": "00e88e9b",
   "metadata": {},
   "outputs": [],
   "source": [
    "import math "
   ]
  },
  {
   "cell_type": "code",
   "execution_count": 7,
   "id": "1bd887aa",
   "metadata": {},
   "outputs": [],
   "source": [
    "def f(x):\n",
    "    return (funcion)"
   ]
  },
  {
   "cell_type": "code",
   "execution_count": null,
   "id": "07a9043a",
   "metadata": {},
   "outputs": [],
   "source": [
    "a=float(input('Introduzca limite a: '))\n",
    "\n",
    "b=float(input('Introduzca limite b: '))\n",
    "\n",
    "n=int(input('Introduzca el numero de intervalor n: '))\n",
    "\n",
    "valor_real=float(input('Introduzca el valor real de la integral: '))\n",
    "\n",
    "h=(b-a)/n\n",
    "s_par=0\n",
    "s_impar=0\n",
    "if n%2==0:\n",
    "    for i in range(1,n):\n",
    "        xi=a+i*h\n",
    "        if i%2==0:\n",
    "            s_par+=f(xi)\n",
    "        else:\n",
    "            s_impar+=f(xi)\n",
    "    \n",
    "    suma_p=2*s_par\n",
    "    suma_i=4*s_impar\n",
    "    total=(h/3)*(suma_p+suma_i)\n",
    "    \n",
    "    r=(h/3)*(f(a)+f(b))+total\n",
    "    \n",
    "    \n",
    "    error=abs(valor_real-r)\n",
    "    print(\"aproximacion= \",r, \"con un error de: \",error)\n",
    "    \n",
    "else:\n",
    "    print(\"el valor de n no es par\")"
   ]
  },
  {
   "cell_type": "code",
   "execution_count": null,
   "id": "e0480700",
   "metadata": {},
   "outputs": [],
   "source": []
  },
  {
   "cell_type": "code",
   "execution_count": null,
   "id": "581fa3d4",
   "metadata": {},
   "outputs": [],
   "source": []
  }
 ],
 "metadata": {
  "kernelspec": {
   "display_name": "Python 3",
   "language": "python",
   "name": "python3"
  },
  "language_info": {
   "codemirror_mode": {
    "name": "ipython",
    "version": 3
   },
   "file_extension": ".py",
   "mimetype": "text/x-python",
   "name": "python",
   "nbconvert_exporter": "python",
   "pygments_lexer": "ipython3",
   "version": "3.9.4"
  }
 },
 "nbformat": 4,
 "nbformat_minor": 5
}
